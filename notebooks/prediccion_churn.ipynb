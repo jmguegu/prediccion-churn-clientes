# 🧠 Predicción de Churn

import pandas as pd
from src.modelo import preparar_datos, entrenar_modelo, evaluar_modelo

# Cargar datos
df = pd.read_csv("../data/churn.csv")

# Preparar
X_train, X_test, y_train, y_test = preparar_datos(df, target='Abandona')

# Entrenar modelo
modelo = entrenar_modelo(X_train, y_train)

# Evaluar
evaluar_modelo(modelo, X_test, y_test)

